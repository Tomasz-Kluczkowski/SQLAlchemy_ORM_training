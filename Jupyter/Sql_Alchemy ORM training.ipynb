{
 "cells": [
  {
   "cell_type": "code",
   "execution_count": 1,
   "metadata": {},
   "outputs": [],
   "source": [
    "import sqlalchemy"
   ]
  },
  {
   "cell_type": "code",
   "execution_count": 2,
   "metadata": {},
   "outputs": [
    {
     "data": {
      "text/plain": [
       "'1.2.16'"
      ]
     },
     "execution_count": 2,
     "metadata": {},
     "output_type": "execute_result"
    }
   ],
   "source": [
    "sqlalchemy.__version__"
   ]
  },
  {
   "cell_type": "markdown",
   "metadata": {},
   "source": [
    "## Create an engine - interface to the database"
   ]
  },
  {
   "cell_type": "code",
   "execution_count": 3,
   "metadata": {},
   "outputs": [],
   "source": [
    "from sqlalchemy import create_engine"
   ]
  },
  {
   "cell_type": "code",
   "execution_count": 4,
   "metadata": {},
   "outputs": [],
   "source": [
    "engine = create_engine('sqlite:///:memory:', echo=True)"
   ]
  },
  {
   "cell_type": "markdown",
   "metadata": {},
   "source": [
    "## Create Base - base class holding all the mappings between the Python code and database tables"
   ]
  },
  {
   "cell_type": "code",
   "execution_count": 5,
   "metadata": {},
   "outputs": [],
   "source": [
    "from sqlalchemy.ext.declarative import declarative_base"
   ]
  },
  {
   "cell_type": "code",
   "execution_count": 6,
   "metadata": {},
   "outputs": [],
   "source": [
    "Base = declarative_base()"
   ]
  },
  {
   "cell_type": "markdown",
   "metadata": {},
   "source": [
    "## Create a User entity"
   ]
  },
  {
   "cell_type": "code",
   "execution_count": 7,
   "metadata": {},
   "outputs": [],
   "source": [
    "from sqlalchemy import Column, Integer, String"
   ]
  },
  {
   "cell_type": "code",
   "execution_count": 8,
   "metadata": {},
   "outputs": [],
   "source": [
    "class User(Base):\n",
    "    __tablename__ = 'users'\n",
    "    id = Column(Integer, primary_key=True)\n",
    "    name = Column(String(50))\n",
    "    fullname = Column(String(50))\n",
    "    password = Column(String(12))\n",
    "    \n",
    "    def __repr__(self):\n",
    "        return f'<User(name={self.name}, fullname={self.fullname}, password={self.password})>'"
   ]
  },
  {
   "cell_type": "code",
   "execution_count": 9,
   "metadata": {},
   "outputs": [
    {
     "name": "stdout",
     "output_type": "stream",
     "text": [
      "2019-01-21 13:57:24,177 INFO sqlalchemy.engine.base.Engine SELECT CAST('test plain returns' AS VARCHAR(60)) AS anon_1\n",
      "2019-01-21 13:57:24,178 INFO sqlalchemy.engine.base.Engine ()\n",
      "2019-01-21 13:57:24,179 INFO sqlalchemy.engine.base.Engine SELECT CAST('test unicode returns' AS VARCHAR(60)) AS anon_1\n",
      "2019-01-21 13:57:24,180 INFO sqlalchemy.engine.base.Engine ()\n",
      "2019-01-21 13:57:24,181 INFO sqlalchemy.engine.base.Engine PRAGMA table_info(\"users\")\n",
      "2019-01-21 13:57:24,181 INFO sqlalchemy.engine.base.Engine ()\n",
      "2019-01-21 13:57:24,184 INFO sqlalchemy.engine.base.Engine \n",
      "CREATE TABLE users (\n",
      "\tid INTEGER NOT NULL, \n",
      "\tname VARCHAR(50), \n",
      "\tfullname VARCHAR(50), \n",
      "\tpassword VARCHAR(12), \n",
      "\tPRIMARY KEY (id)\n",
      ")\n",
      "\n",
      "\n",
      "2019-01-21 13:57:24,184 INFO sqlalchemy.engine.base.Engine ()\n",
      "2019-01-21 13:57:24,185 INFO sqlalchemy.engine.base.Engine COMMIT\n"
     ]
    }
   ],
   "source": [
    "Base.metadata.create_all(engine)"
   ]
  },
  {
   "cell_type": "code",
   "execution_count": 10,
   "metadata": {},
   "outputs": [],
   "source": [
    "ed_user = User(name='ed', fullname='Ed Jones', password='edspassword')"
   ]
  },
  {
   "cell_type": "code",
   "execution_count": 11,
   "metadata": {},
   "outputs": [
    {
     "data": {
      "text/plain": [
       "'ed'"
      ]
     },
     "execution_count": 11,
     "metadata": {},
     "output_type": "execute_result"
    }
   ],
   "source": [
    "ed_user.name"
   ]
  },
  {
   "cell_type": "code",
   "execution_count": 12,
   "metadata": {},
   "outputs": [
    {
     "data": {
      "text/plain": [
       "'None'"
      ]
     },
     "execution_count": 12,
     "metadata": {},
     "output_type": "execute_result"
    }
   ],
   "source": [
    "str(ed_user.id)"
   ]
  },
  {
   "cell_type": "markdown",
   "metadata": {},
   "source": [
    "## Create a session object (not instantiated)"
   ]
  },
  {
   "cell_type": "code",
   "execution_count": 13,
   "metadata": {},
   "outputs": [],
   "source": [
    "from sqlalchemy.orm import sessionmaker"
   ]
  },
  {
   "cell_type": "code",
   "execution_count": 14,
   "metadata": {},
   "outputs": [],
   "source": [
    "Session = sessionmaker(bind=engine) # this adds the interface to the database straight away"
   ]
  },
  {
   "cell_type": "markdown",
   "metadata": {},
   "source": [
    "but we can also use\n",
    "```Session = sessionmaker()```\n",
    "and then add the engine later with:\n",
    "```Session.configure(bind=engine)```\n",
    "this is useful for using in app factory where we do not want to bind it initially.\n"
   ]
  },
  {
   "cell_type": "markdown",
   "metadata": {},
   "source": [
    "## Create a session instance"
   ]
  },
  {
   "cell_type": "code",
   "execution_count": 15,
   "metadata": {},
   "outputs": [],
   "source": [
    "session = Session()"
   ]
  },
  {
   "cell_type": "markdown",
   "metadata": {},
   "source": [
    "## Add object to database"
   ]
  },
  {
   "cell_type": "code",
   "execution_count": 16,
   "metadata": {},
   "outputs": [],
   "source": [
    "session.add(ed_user)"
   ]
  },
  {
   "cell_type": "markdown",
   "metadata": {},
   "source": [
    "Now the ed_user is **pending** - its inside a transaction in the session waiting for commit() to be saved to the database."
   ]
  },
  {
   "cell_type": "markdown",
   "metadata": {},
   "source": [
    "## Retrieving pending object will flush it giving it a unique ID"
   ]
  },
  {
   "cell_type": "code",
   "execution_count": 17,
   "metadata": {},
   "outputs": [
    {
     "name": "stdout",
     "output_type": "stream",
     "text": [
      "2019-01-21 13:57:24,259 INFO sqlalchemy.engine.base.Engine BEGIN (implicit)\n",
      "2019-01-21 13:57:24,260 INFO sqlalchemy.engine.base.Engine INSERT INTO users (name, fullname, password) VALUES (?, ?, ?)\n",
      "2019-01-21 13:57:24,261 INFO sqlalchemy.engine.base.Engine ('ed', 'Ed Jones', 'edspassword')\n",
      "2019-01-21 13:57:24,263 INFO sqlalchemy.engine.base.Engine SELECT users.id AS users_id, users.name AS users_name, users.fullname AS users_fullname, users.password AS users_password \n",
      "FROM users \n",
      "WHERE users.name = ?\n",
      " LIMIT ? OFFSET ?\n",
      "2019-01-21 13:57:24,263 INFO sqlalchemy.engine.base.Engine ('ed', 1, 0)\n"
     ]
    }
   ],
   "source": [
    "our_user = session.query(User).filter_by(name='ed').first()"
   ]
  },
  {
   "cell_type": "markdown",
   "metadata": {},
   "source": [
    "## The object retrieved from the database is the same object that was used to create it!"
   ]
  },
  {
   "cell_type": "code",
   "execution_count": 18,
   "metadata": {},
   "outputs": [
    {
     "data": {
      "text/plain": [
       "True"
      ]
     },
     "execution_count": 18,
     "metadata": {},
     "output_type": "execute_result"
    }
   ],
   "source": [
    "our_user is ed_user"
   ]
  },
  {
   "cell_type": "markdown",
   "metadata": {},
   "source": [
    "## Add multiple objects with add_all()"
   ]
  },
  {
   "cell_type": "code",
   "execution_count": 19,
   "metadata": {},
   "outputs": [],
   "source": [
    "session.add_all(\n",
    "    [\n",
    "        User(name='wendy', fullname='Wendy Williams', password='foobar'),\n",
    "        User(name='mary', fullname='Mary Contrary', password='xfsdgfsd'),\n",
    "        User(name='fred', fullname='Fred Flinstone', password='club'),\n",
    "    ]\n",
    ")"
   ]
  },
  {
   "cell_type": "markdown",
   "metadata": {},
   "source": [
    "## Change existing attribute"
   ]
  },
  {
   "cell_type": "code",
   "execution_count": 20,
   "metadata": {},
   "outputs": [],
   "source": [
    "ed_user.password = 'newpass'"
   ]
  },
  {
   "cell_type": "markdown",
   "metadata": {},
   "source": [
    "## Now the changes to already existing objects are in ```session.dirty```"
   ]
  },
  {
   "cell_type": "code",
   "execution_count": 21,
   "metadata": {},
   "outputs": [
    {
     "data": {
      "text/plain": [
       "IdentitySet([<User(name=ed, fullname=Ed Jones, password=newpass)>])"
      ]
     },
     "execution_count": 21,
     "metadata": {},
     "output_type": "execute_result"
    }
   ],
   "source": [
    "session.dirty"
   ]
  },
  {
   "cell_type": "markdown",
   "metadata": {},
   "source": [
    "## And new items that are pending are in ```session.new```"
   ]
  },
  {
   "cell_type": "code",
   "execution_count": 22,
   "metadata": {},
   "outputs": [
    {
     "data": {
      "text/plain": [
       "IdentitySet([<User(name=wendy, fullname=Wendy Williams, password=foobar)>, <User(name=mary, fullname=Mary Contrary, password=xfsdgfsd)>, <User(name=fred, fullname=Fred Flinstone, password=club)>])"
      ]
     },
     "execution_count": 22,
     "metadata": {},
     "output_type": "execute_result"
    }
   ],
   "source": [
    "session.new"
   ]
  },
  {
   "cell_type": "markdown",
   "metadata": {},
   "source": [
    "## To save all pending changes we issue ```session.commit()``` command"
   ]
  },
  {
   "cell_type": "code",
   "execution_count": 23,
   "metadata": {},
   "outputs": [
    {
     "name": "stdout",
     "output_type": "stream",
     "text": [
      "2019-01-21 13:57:24,320 INFO sqlalchemy.engine.base.Engine UPDATE users SET password=? WHERE users.id = ?\n",
      "2019-01-21 13:57:24,320 INFO sqlalchemy.engine.base.Engine ('newpass', 1)\n",
      "2019-01-21 13:57:24,321 INFO sqlalchemy.engine.base.Engine INSERT INTO users (name, fullname, password) VALUES (?, ?, ?)\n",
      "2019-01-21 13:57:24,322 INFO sqlalchemy.engine.base.Engine ('wendy', 'Wendy Williams', 'foobar')\n",
      "2019-01-21 13:57:24,322 INFO sqlalchemy.engine.base.Engine INSERT INTO users (name, fullname, password) VALUES (?, ?, ?)\n",
      "2019-01-21 13:57:24,323 INFO sqlalchemy.engine.base.Engine ('mary', 'Mary Contrary', 'xfsdgfsd')\n",
      "2019-01-21 13:57:24,323 INFO sqlalchemy.engine.base.Engine INSERT INTO users (name, fullname, password) VALUES (?, ?, ?)\n",
      "2019-01-21 13:57:24,324 INFO sqlalchemy.engine.base.Engine ('fred', 'Fred Flinstone', 'club')\n",
      "2019-01-21 13:57:24,324 INFO sqlalchemy.engine.base.Engine COMMIT\n"
     ]
    }
   ],
   "source": [
    "session.commit()"
   ]
  },
  {
   "cell_type": "code",
   "execution_count": 24,
   "metadata": {},
   "outputs": [
    {
     "name": "stdout",
     "output_type": "stream",
     "text": [
      "2019-01-21 13:57:24,330 INFO sqlalchemy.engine.base.Engine BEGIN (implicit)\n",
      "2019-01-21 13:57:24,331 INFO sqlalchemy.engine.base.Engine SELECT users.id AS users_id, users.name AS users_name, users.fullname AS users_fullname, users.password AS users_password \n",
      "FROM users \n",
      "WHERE users.id = ?\n",
      "2019-01-21 13:57:24,331 INFO sqlalchemy.engine.base.Engine (1,)\n"
     ]
    },
    {
     "data": {
      "text/plain": [
       "1"
      ]
     },
     "execution_count": 24,
     "metadata": {},
     "output_type": "execute_result"
    }
   ],
   "source": [
    "ed_user.id"
   ]
  },
  {
   "cell_type": "code",
   "execution_count": 25,
   "metadata": {},
   "outputs": [
    {
     "data": {
      "text/plain": [
       "'newpass'"
      ]
     },
     "execution_count": 25,
     "metadata": {},
     "output_type": "execute_result"
    }
   ],
   "source": [
    "ed_user.password"
   ]
  },
  {
   "cell_type": "markdown",
   "metadata": {},
   "source": [
    "## How to rollback the changes that are pending (not commited yet)."
   ]
  },
  {
   "cell_type": "code",
   "execution_count": 26,
   "metadata": {},
   "outputs": [],
   "source": [
    "ed_user.name = 'Eduardo'"
   ]
  },
  {
   "cell_type": "code",
   "execution_count": 27,
   "metadata": {},
   "outputs": [],
   "source": [
    "fake_user = User(name='fakeuser', fullname='Invalid', password='fsdfsd')"
   ]
  },
  {
   "cell_type": "code",
   "execution_count": 28,
   "metadata": {},
   "outputs": [],
   "source": [
    "session.add(fake_user)"
   ]
  },
  {
   "cell_type": "code",
   "execution_count": 29,
   "metadata": {},
   "outputs": [
    {
     "data": {
      "text/plain": [
       "True"
      ]
     },
     "execution_count": 29,
     "metadata": {},
     "output_type": "execute_result"
    }
   ],
   "source": [
    "fake_user in session"
   ]
  },
  {
   "cell_type": "markdown",
   "metadata": {},
   "source": [
    "\n",
    "## Query the session to flush the pending changes"
   ]
  },
  {
   "cell_type": "code",
   "execution_count": 30,
   "metadata": {},
   "outputs": [
    {
     "name": "stdout",
     "output_type": "stream",
     "text": [
      "2019-01-21 13:57:24,387 INFO sqlalchemy.engine.base.Engine UPDATE users SET name=? WHERE users.id = ?\n",
      "2019-01-21 13:57:24,388 INFO sqlalchemy.engine.base.Engine ('Eduardo', 1)\n",
      "2019-01-21 13:57:24,389 INFO sqlalchemy.engine.base.Engine INSERT INTO users (name, fullname, password) VALUES (?, ?, ?)\n",
      "2019-01-21 13:57:24,389 INFO sqlalchemy.engine.base.Engine ('fakeuser', 'Invalid', 'fsdfsd')\n",
      "2019-01-21 13:57:24,390 INFO sqlalchemy.engine.base.Engine SELECT users.id AS users_id, users.name AS users_name, users.fullname AS users_fullname, users.password AS users_password \n",
      "FROM users \n",
      "WHERE users.name IN (?, ?)\n",
      "2019-01-21 13:57:24,391 INFO sqlalchemy.engine.base.Engine ('Eduardo', 'fakeuser')\n"
     ]
    },
    {
     "data": {
      "text/plain": [
       "[<User(name=Eduardo, fullname=Ed Jones, password=newpass)>,\n",
       " <User(name=fakeuser, fullname=Invalid, password=fsdfsd)>]"
      ]
     },
     "execution_count": 30,
     "metadata": {},
     "output_type": "execute_result"
    }
   ],
   "source": [
    "session.query(User).filter(User.name.in_(['Eduardo', 'fakeuser'])).all()"
   ]
  },
  {
   "cell_type": "markdown",
   "metadata": {},
   "source": [
    "## Now rollback to revert the changes"
   ]
  },
  {
   "cell_type": "code",
   "execution_count": 31,
   "metadata": {},
   "outputs": [
    {
     "name": "stdout",
     "output_type": "stream",
     "text": [
      "2019-01-21 13:57:24,397 INFO sqlalchemy.engine.base.Engine ROLLBACK\n"
     ]
    }
   ],
   "source": [
    "session.rollback()"
   ]
  },
  {
   "cell_type": "code",
   "execution_count": 32,
   "metadata": {},
   "outputs": [
    {
     "name": "stdout",
     "output_type": "stream",
     "text": [
      "2019-01-21 13:57:24,407 INFO sqlalchemy.engine.base.Engine BEGIN (implicit)\n",
      "2019-01-21 13:57:24,408 INFO sqlalchemy.engine.base.Engine SELECT users.id AS users_id, users.name AS users_name, users.fullname AS users_fullname, users.password AS users_password \n",
      "FROM users \n",
      "WHERE users.id = ?\n",
      "2019-01-21 13:57:24,408 INFO sqlalchemy.engine.base.Engine (1,)\n"
     ]
    },
    {
     "data": {
      "text/plain": [
       "'ed'"
      ]
     },
     "execution_count": 32,
     "metadata": {},
     "output_type": "execute_result"
    }
   ],
   "source": [
    "ed_user.name # the name is again 'ed'"
   ]
  },
  {
   "cell_type": "code",
   "execution_count": 33,
   "metadata": {},
   "outputs": [
    {
     "data": {
      "text/plain": [
       "False"
      ]
     },
     "execution_count": 33,
     "metadata": {},
     "output_type": "execute_result"
    }
   ],
   "source": [
    "fake_user in session # and the fake_user got removed from the session transaction"
   ]
  },
  {
   "cell_type": "markdown",
   "metadata": {},
   "source": [
    "# Querying the database "
   ]
  },
  {
   "cell_type": "code",
   "execution_count": 34,
   "metadata": {},
   "outputs": [
    {
     "name": "stdout",
     "output_type": "stream",
     "text": [
      "2019-01-21 13:57:24,427 INFO sqlalchemy.engine.base.Engine SELECT users.id AS users_id, users.name AS users_name, users.fullname AS users_fullname, users.password AS users_password \n",
      "FROM users ORDER BY users.id\n",
      "2019-01-21 13:57:24,427 INFO sqlalchemy.engine.base.Engine ()\n",
      "ed Ed Jones\n",
      "wendy Wendy Williams\n",
      "mary Mary Contrary\n",
      "fred Fred Flinstone\n"
     ]
    }
   ],
   "source": [
    "for instance in session.query(User).order_by(User.id):\n",
    "    print(instance.name, instance.fullname)"
   ]
  },
  {
   "cell_type": "markdown",
   "metadata": {},
   "source": [
    "## We can also use ORM descriptors as arguments to query - then columns get pulled out "
   ]
  },
  {
   "cell_type": "code",
   "execution_count": 35,
   "metadata": {},
   "outputs": [
    {
     "name": "stdout",
     "output_type": "stream",
     "text": [
      "2019-01-21 13:57:24,437 INFO sqlalchemy.engine.base.Engine SELECT users.name AS users_name, users.fullname AS users_fullname \n",
      "FROM users\n",
      "2019-01-21 13:57:24,437 INFO sqlalchemy.engine.base.Engine ()\n",
      "ed Ed Jones\n",
      "wendy Wendy Williams\n",
      "mary Mary Contrary\n",
      "fred Fred Flinstone\n"
     ]
    }
   ],
   "source": [
    "for name, fullname in session.query(User.name, User.fullname):\n",
    "    print(name, fullname)"
   ]
  },
  {
   "cell_type": "markdown",
   "metadata": {},
   "source": [
    "## Query can be limited and offset as well using slicing"
   ]
  },
  {
   "cell_type": "code",
   "execution_count": 36,
   "metadata": {},
   "outputs": [
    {
     "name": "stdout",
     "output_type": "stream",
     "text": [
      "2019-01-21 13:57:24,447 INFO sqlalchemy.engine.base.Engine SELECT users.id AS users_id, users.name AS users_name, users.fullname AS users_fullname, users.password AS users_password \n",
      "FROM users ORDER BY users.id\n",
      " LIMIT ? OFFSET ?\n",
      "2019-01-21 13:57:24,448 INFO sqlalchemy.engine.base.Engine (2, 1)\n",
      "<User(name=wendy, fullname=Wendy Williams, password=foobar)>\n",
      "<User(name=mary, fullname=Mary Contrary, password=xfsdgfsd)>\n"
     ]
    }
   ],
   "source": [
    "for u in session.query(User).order_by(User.id)[1:3]:\n",
    "    print(u)"
   ]
  },
  {
   "cell_type": "markdown",
   "metadata": {},
   "source": [
    "## Filtering by keyword arguments is done with ```filter_by()```"
   ]
  },
  {
   "cell_type": "code",
   "execution_count": 37,
   "metadata": {},
   "outputs": [
    {
     "name": "stdout",
     "output_type": "stream",
     "text": [
      "2019-01-21 13:57:24,457 INFO sqlalchemy.engine.base.Engine SELECT users.name AS users_name \n",
      "FROM users \n",
      "WHERE users.fullname = ?\n",
      "2019-01-21 13:57:24,457 INFO sqlalchemy.engine.base.Engine ('Ed Jones',)\n",
      "ed\n"
     ]
    }
   ],
   "source": [
    "for name, in session.query(User.name).filter_by(fullname='Ed Jones'): \n",
    "    # This always return a tuple so we unpack it - name,\n",
    "    print(name)"
   ]
  },
  {
   "cell_type": "markdown",
   "metadata": {},
   "source": [
    "## For filtering using SQL expressions we use ```filter()```"
   ]
  },
  {
   "cell_type": "code",
   "execution_count": 38,
   "metadata": {},
   "outputs": [
    {
     "name": "stdout",
     "output_type": "stream",
     "text": [
      "2019-01-21 13:57:24,466 INFO sqlalchemy.engine.base.Engine SELECT users.name AS users_name \n",
      "FROM users \n",
      "WHERE users.fullname = ?\n",
      "2019-01-21 13:57:24,467 INFO sqlalchemy.engine.base.Engine ('Ed Jones',)\n",
      "ed\n"
     ]
    }
   ],
   "source": [
    "for name, in session.query(User.name).filter(User.fullname=='Ed Jones'):\n",
    "    print(name)"
   ]
  },
  {
   "cell_type": "markdown",
   "metadata": {},
   "source": [
    "## The result of a query can be further filtered, we can chain operations"
   ]
  },
  {
   "cell_type": "code",
   "execution_count": 39,
   "metadata": {},
   "outputs": [
    {
     "name": "stdout",
     "output_type": "stream",
     "text": [
      "2019-01-21 13:57:24,478 INFO sqlalchemy.engine.base.Engine SELECT users.id AS users_id, users.name AS users_name, users.fullname AS users_fullname, users.password AS users_password \n",
      "FROM users \n",
      "WHERE users.name = ? AND users.fullname = ?\n",
      "2019-01-21 13:57:24,479 INFO sqlalchemy.engine.base.Engine ('ed', 'Ed Jones')\n",
      "<User(name=ed, fullname=Ed Jones, password=newpass)>\n"
     ]
    }
   ],
   "source": [
    "for user in session.query(User).filter(User.name=='ed').filter(User.fullname=='Ed Jones'):\n",
    "    print(user)"
   ]
  },
  {
   "cell_type": "markdown",
   "metadata": {},
   "source": [
    "## filter() accepts operators:\n",
    "- equals -  ==\n",
    "- not equals - !=\n",
    "- LIKE - query.filter(User.name.like('%ed%')) - case sensitive like\n",
    "- ILIKE - query.filter(User.name.ilike('%ed%)) - case insensitive like\n",
    "- IN - query.filter(User.name.in_(['ed', 'wendy']))\n",
    "- NOT IN - (Use ~ to negate) query.filter(~User.name.in_(['ed', 'wendy']))\n",
    "- IS NULL - query.filter(User.name == None) or more pythonic: query.filter(User.name.is_(None))\n",
    "- IS NOT NULL - query.filtr(USer.name != None) or more pythonic: query.filter(User.name.isnot(None))\n",
    "- AND - query.filter(and_(User.name=='ed', User.fullname='Ed Jones'))\n",
    "    we can also just add more expressions to achieve AND operator\n",
    "    query.filter(User.name=='ed', User.fullname='Ed Jones')\n",
    "    or chain filters themselves:\n",
    "    query.filter(User.name=='ed').filter(User.fullname='Ed Jones')\n",
    "- OR - query.filter(or_(User.name=='ed', User.name=='wendy))\n",
    "- MATCH - query.filter(User.name.match('wendy')"
   ]
  },
  {
   "cell_type": "markdown",
   "metadata": {},
   "source": [
    "## Returning lists and scalars"
   ]
  },
  {
   "cell_type": "code",
   "execution_count": 40,
   "metadata": {},
   "outputs": [],
   "source": [
    "query = session.query(User).filter(User.name.like('%ed')).order_by(User.id)"
   ]
  },
  {
   "cell_type": "code",
   "execution_count": 41,
   "metadata": {},
   "outputs": [
    {
     "name": "stdout",
     "output_type": "stream",
     "text": [
      "2019-01-21 13:57:24,499 INFO sqlalchemy.engine.base.Engine SELECT users.id AS users_id, users.name AS users_name, users.fullname AS users_fullname, users.password AS users_password \n",
      "FROM users \n",
      "WHERE users.name LIKE ? ORDER BY users.id\n",
      "2019-01-21 13:57:24,499 INFO sqlalchemy.engine.base.Engine ('%ed',)\n"
     ]
    },
    {
     "data": {
      "text/plain": [
       "[<User(name=ed, fullname=Ed Jones, password=newpass)>,\n",
       " <User(name=fred, fullname=Fred Flinstone, password=club)>]"
      ]
     },
     "execution_count": 41,
     "metadata": {},
     "output_type": "execute_result"
    }
   ],
   "source": [
    "query.all() # Returns a list of results"
   ]
  },
  {
   "cell_type": "code",
   "execution_count": 42,
   "metadata": {},
   "outputs": [
    {
     "name": "stdout",
     "output_type": "stream",
     "text": [
      "2019-01-21 13:57:24,509 INFO sqlalchemy.engine.base.Engine SELECT users.id AS users_id, users.name AS users_name, users.fullname AS users_fullname, users.password AS users_password \n",
      "FROM users \n",
      "WHERE users.name LIKE ? ORDER BY users.id\n",
      " LIMIT ? OFFSET ?\n",
      "2019-01-21 13:57:24,510 INFO sqlalchemy.engine.base.Engine ('%ed', 1, 0)\n"
     ]
    },
    {
     "data": {
      "text/plain": [
       "<User(name=ed, fullname=Ed Jones, password=newpass)>"
      ]
     },
     "execution_count": 42,
     "metadata": {},
     "output_type": "execute_result"
    }
   ],
   "source": [
    "query.first() # Returns the first result in the list of results"
   ]
  },
  {
   "cell_type": "code",
   "execution_count": 43,
   "metadata": {},
   "outputs": [],
   "source": [
    "# user = query.one() # Throws an error if multiple or no rows found."
   ]
  },
  {
   "cell_type": "markdown",
   "metadata": {},
   "source": [
    "## Use ```one_or_none()``` to get ```None``` if no results found (throws error if multiple)"
   ]
  },
  {
   "cell_type": "code",
   "execution_count": 44,
   "metadata": {},
   "outputs": [],
   "source": [
    "query = session.query(User.id).filter(User.name=='ed').order_by(User.id)"
   ]
  },
  {
   "cell_type": "markdown",
   "metadata": {},
   "source": [
    "## ```scalar()``` uses ```one()``` on query and returns only the first column in the row"
   ]
  },
  {
   "cell_type": "code",
   "execution_count": 45,
   "metadata": {},
   "outputs": [
    {
     "name": "stdout",
     "output_type": "stream",
     "text": [
      "2019-01-21 13:57:24,543 INFO sqlalchemy.engine.base.Engine SELECT users.id AS users_id \n",
      "FROM users \n",
      "WHERE users.name = ? ORDER BY users.id\n",
      "2019-01-21 13:57:24,544 INFO sqlalchemy.engine.base.Engine ('ed',)\n"
     ]
    },
    {
     "data": {
      "text/plain": [
       "1"
      ]
     },
     "execution_count": 45,
     "metadata": {},
     "output_type": "execute_result"
    }
   ],
   "source": [
    "query.scalar() # will return the user.id column only"
   ]
  },
  {
   "cell_type": "markdown",
   "metadata": {},
   "source": [
    "# Using textual SQL "
   ]
  },
  {
   "cell_type": "markdown",
   "metadata": {},
   "source": [
    "## use ```text()``` in filter() and order_by()"
   ]
  },
  {
   "cell_type": "code",
   "execution_count": 46,
   "metadata": {},
   "outputs": [],
   "source": [
    "from sqlalchemy import text"
   ]
  },
  {
   "cell_type": "code",
   "execution_count": 47,
   "metadata": {},
   "outputs": [
    {
     "name": "stdout",
     "output_type": "stream",
     "text": [
      "2019-01-21 13:57:24,562 INFO sqlalchemy.engine.base.Engine SELECT users.id AS users_id, users.name AS users_name, users.fullname AS users_fullname, users.password AS users_password \n",
      "FROM users \n",
      "WHERE id<224 ORDER BY id\n",
      "2019-01-21 13:57:24,563 INFO sqlalchemy.engine.base.Engine ()\n",
      "ed\n",
      "wendy\n",
      "mary\n",
      "fred\n"
     ]
    }
   ],
   "source": [
    "for user in session.query(User).filter(text('id<224')).order_by(text('id')).all():\n",
    "    print(user.name)"
   ]
  },
  {
   "cell_type": "markdown",
   "metadata": {},
   "source": [
    "## Parameters can be specified using string based SQL and a colon - to specify values we use ```params()```"
   ]
  },
  {
   "cell_type": "code",
   "execution_count": 48,
   "metadata": {},
   "outputs": [
    {
     "name": "stdout",
     "output_type": "stream",
     "text": [
      "2019-01-21 13:57:24,572 INFO sqlalchemy.engine.base.Engine SELECT users.id AS users_id, users.name AS users_name, users.fullname AS users_fullname, users.password AS users_password \n",
      "FROM users \n",
      "WHERE id<? and name=? ORDER BY users.id\n",
      "2019-01-21 13:57:24,572 INFO sqlalchemy.engine.base.Engine (224, 'fred')\n"
     ]
    },
    {
     "data": {
      "text/plain": [
       "<User(name=fred, fullname=Fred Flinstone, password=club)>"
      ]
     },
     "execution_count": 48,
     "metadata": {},
     "output_type": "execute_result"
    }
   ],
   "source": [
    "session.query(User).filter(text('id<:value and name=:name')).params(value=224, name='fred').order_by(User.id).one()"
   ]
  },
  {
   "cell_type": "markdown",
   "metadata": {},
   "source": [
    "## We can also use raw SQL - use ```from_statement()```"
   ]
  },
  {
   "cell_type": "code",
   "execution_count": 49,
   "metadata": {},
   "outputs": [
    {
     "name": "stdout",
     "output_type": "stream",
     "text": [
      "2019-01-21 13:57:24,601 INFO sqlalchemy.engine.base.Engine SELECT * FROM users where name=?\n",
      "2019-01-21 13:57:24,602 INFO sqlalchemy.engine.base.Engine ('ed',)\n"
     ]
    },
    {
     "data": {
      "text/plain": [
       "[<User(name=ed, fullname=Ed Jones, password=newpass)>]"
      ]
     },
     "execution_count": 49,
     "metadata": {},
     "output_type": "execute_result"
    }
   ],
   "source": [
    "session.query(User).from_statement(text('SELECT * FROM users where name=:name')).params(name='ed').all()"
   ]
  },
  {
   "cell_type": "markdown",
   "metadata": {},
   "source": [
    "## We can also map columns positionally "
   ]
  },
  {
   "cell_type": "code",
   "execution_count": 50,
   "metadata": {},
   "outputs": [],
   "source": [
    "stmt = text('SELECT name, id, fullname, password FROM users where name=:name')"
   ]
  },
  {
   "cell_type": "markdown",
   "metadata": {},
   "source": [
    "### Now pass columns mapping to name, id, fullname, password "
   ]
  },
  {
   "cell_type": "code",
   "execution_count": 51,
   "metadata": {},
   "outputs": [],
   "source": [
    "stmt = stmt.columns(User.name, User.id, User.fullname, User.password)"
   ]
  },
  {
   "cell_type": "code",
   "execution_count": 52,
   "metadata": {},
   "outputs": [
    {
     "name": "stdout",
     "output_type": "stream",
     "text": [
      "2019-01-21 13:57:24,634 INFO sqlalchemy.engine.base.Engine SELECT name, id, fullname, password FROM users where name=?\n",
      "2019-01-21 13:57:24,635 INFO sqlalchemy.engine.base.Engine ('ed',)\n"
     ]
    },
    {
     "data": {
      "text/plain": [
       "[<User(name=ed, fullname=Ed Jones, password=newpass)>]"
      ]
     },
     "execution_count": 52,
     "metadata": {},
     "output_type": "execute_result"
    }
   ],
   "source": [
    "session.query(User).from_statement(stmt).params(name='ed').all()"
   ]
  },
  {
   "cell_type": "markdown",
   "metadata": {},
   "source": [
    "## Counting - use ```count()```"
   ]
  },
  {
   "cell_type": "code",
   "execution_count": 53,
   "metadata": {},
   "outputs": [
    {
     "name": "stdout",
     "output_type": "stream",
     "text": [
      "2019-01-21 13:57:24,647 INFO sqlalchemy.engine.base.Engine SELECT count(*) AS count_1 \n",
      "FROM (SELECT users.id AS users_id, users.name AS users_name, users.fullname AS users_fullname, users.password AS users_password \n",
      "FROM users \n",
      "WHERE users.name LIKE ?) AS anon_1\n",
      "2019-01-21 13:57:24,650 INFO sqlalchemy.engine.base.Engine ('%ed',)\n"
     ]
    },
    {
     "data": {
      "text/plain": [
       "2"
      ]
     },
     "execution_count": 53,
     "metadata": {},
     "output_type": "execute_result"
    }
   ],
   "source": [
    "session.query(User).filter(User.name.like('%ed')).count()"
   ]
  },
  {
   "cell_type": "markdown",
   "metadata": {},
   "source": [
    "## We can also specify what should be counted using ```func```"
   ]
  },
  {
   "cell_type": "code",
   "execution_count": 54,
   "metadata": {},
   "outputs": [],
   "source": [
    "from sqlalchemy import func"
   ]
  },
  {
   "cell_type": "code",
   "execution_count": 55,
   "metadata": {},
   "outputs": [
    {
     "name": "stdout",
     "output_type": "stream",
     "text": [
      "2019-01-21 13:57:24,669 INFO sqlalchemy.engine.base.Engine SELECT count(users.name) AS count_1, users.name AS users_name \n",
      "FROM users GROUP BY users.name\n",
      "2019-01-21 13:57:24,670 INFO sqlalchemy.engine.base.Engine ()\n"
     ]
    },
    {
     "data": {
      "text/plain": [
       "[(1, 'ed'), (1, 'fred'), (1, 'mary'), (1, 'wendy')]"
      ]
     },
     "execution_count": 55,
     "metadata": {},
     "output_type": "execute_result"
    }
   ],
   "source": [
    "session.query(func.count(User.name), User.name).group_by(User.name).all()"
   ]
  },
  {
   "cell_type": "markdown",
   "metadata": {},
   "source": [
    "### this counts how many 'ed' are there, how many 'fred' etc.."
   ]
  },
  {
   "cell_type": "markdown",
   "metadata": {},
   "source": [
    "# Adding relationships "
   ]
  },
  {
   "cell_type": "code",
   "execution_count": 56,
   "metadata": {},
   "outputs": [],
   "source": [
    "from sqlalchemy import ForeignKey"
   ]
  },
  {
   "cell_type": "code",
   "execution_count": 57,
   "metadata": {},
   "outputs": [],
   "source": [
    "from sqlalchemy.orm import relationship"
   ]
  },
  {
   "cell_type": "code",
   "execution_count": 58,
   "metadata": {},
   "outputs": [],
   "source": [
    "class Address(Base):\n",
    "    __tablename__ = 'addresses'\n",
    "    id = Column(Integer, primary_key=True)\n",
    "    email_address = Column(String, nullable=False)\n",
    "    user_id = Column(Integer, ForeignKey('users.id'))\n",
    "    user = relationship('User', back_populates='addresses')\n",
    "    \n",
    "    def __repr__(self):\n",
    "        return f'<Address(email_address={self.email_address})>'"
   ]
  },
  {
   "cell_type": "code",
   "execution_count": 59,
   "metadata": {},
   "outputs": [
    {
     "name": "stdout",
     "output_type": "stream",
     "text": [
      "2019-01-21 13:57:24,711 INFO sqlalchemy.engine.base.Engine PRAGMA table_info(\"users\")\n",
      "2019-01-21 13:57:24,712 INFO sqlalchemy.engine.base.Engine ()\n",
      "2019-01-21 13:57:24,713 INFO sqlalchemy.engine.base.Engine PRAGMA table_info(\"addresses\")\n",
      "2019-01-21 13:57:24,714 INFO sqlalchemy.engine.base.Engine ()\n",
      "2019-01-21 13:57:24,714 INFO sqlalchemy.engine.base.Engine \n",
      "CREATE TABLE addresses (\n",
      "\tid INTEGER NOT NULL, \n",
      "\temail_address VARCHAR NOT NULL, \n",
      "\tuser_id INTEGER, \n",
      "\tPRIMARY KEY (id), \n",
      "\tFOREIGN KEY(user_id) REFERENCES users (id)\n",
      ")\n",
      "\n",
      "\n",
      "2019-01-21 13:57:24,715 INFO sqlalchemy.engine.base.Engine ()\n",
      "2019-01-21 13:57:24,717 INFO sqlalchemy.engine.base.Engine COMMIT\n"
     ]
    }
   ],
   "source": [
    "Base.metadata.create_all(engine)"
   ]
  },
  {
   "cell_type": "markdown",
   "metadata": {},
   "source": [
    "### the user_id and user link Address to a User of whom this is the email address"
   ]
  },
  {
   "cell_type": "markdown",
   "metadata": {},
   "source": [
    "## We also have to add the relationship on User to achieve one to many relationship"
   ]
  },
  {
   "cell_type": "code",
   "execution_count": 60,
   "metadata": {},
   "outputs": [],
   "source": [
    "User.addresses = relationship('Address', order_by=Address.id, back_populates='user')"
   ]
  },
  {
   "cell_type": "markdown",
   "metadata": {},
   "source": [
    "## Add related objects"
   ]
  },
  {
   "cell_type": "code",
   "execution_count": 61,
   "metadata": {},
   "outputs": [],
   "source": [
    "jack = User(name='jack', fullname='Jack Bean', password='dsdfsdf')"
   ]
  },
  {
   "cell_type": "code",
   "execution_count": 62,
   "metadata": {},
   "outputs": [
    {
     "data": {
      "text/plain": [
       "[]"
      ]
     },
     "execution_count": 62,
     "metadata": {},
     "output_type": "execute_result"
    }
   ],
   "source": [
    "jack.addresses"
   ]
  },
  {
   "cell_type": "markdown",
   "metadata": {},
   "source": [
    "## We can add new addresses to user jack as a list of Address objects"
   ]
  },
  {
   "cell_type": "code",
   "execution_count": 63,
   "metadata": {},
   "outputs": [],
   "source": [
    "jack.addresses = [\n",
    "    Address(email_address='jack@google.com'),\n",
    "    Address(email_address='j25@yahoo.com')\n",
    "]"
   ]
  },
  {
   "cell_type": "code",
   "execution_count": 64,
   "metadata": {},
   "outputs": [
    {
     "data": {
      "text/plain": [
       "[<Address(email_address=jack@google.com)>,\n",
       " <Address(email_address=j25@yahoo.com)>]"
      ]
     },
     "execution_count": 64,
     "metadata": {},
     "output_type": "execute_result"
    }
   ],
   "source": [
    "jack.addresses"
   ]
  },
  {
   "cell_type": "markdown",
   "metadata": {},
   "source": [
    "##  Because the relation is bidirectional from User to Address and from Address to User addresses added in user automatically give access to user in those addresses."
   ]
  },
  {
   "cell_type": "code",
   "execution_count": 65,
   "metadata": {},
   "outputs": [
    {
     "data": {
      "text/plain": [
       "<User(name=jack, fullname=Jack Bean, password=dsdfsdf)>"
      ]
     },
     "execution_count": 65,
     "metadata": {},
     "output_type": "execute_result"
    }
   ],
   "source": [
    "jack.addresses[1].user # we are accessing Address.user relationship"
   ]
  },
  {
   "cell_type": "markdown",
   "metadata": {},
   "source": [
    "## If we now add jack to the session the new Addresses also will get added - cascading"
   ]
  },
  {
   "cell_type": "code",
   "execution_count": 66,
   "metadata": {},
   "outputs": [],
   "source": [
    "session.add(jack)"
   ]
  },
  {
   "cell_type": "code",
   "execution_count": 67,
   "metadata": {},
   "outputs": [
    {
     "name": "stdout",
     "output_type": "stream",
     "text": [
      "2019-01-21 13:57:24,798 INFO sqlalchemy.engine.base.Engine INSERT INTO users (name, fullname, password) VALUES (?, ?, ?)\n",
      "2019-01-21 13:57:24,799 INFO sqlalchemy.engine.base.Engine ('jack', 'Jack Bean', 'dsdfsdf')\n",
      "2019-01-21 13:57:24,801 INFO sqlalchemy.engine.base.Engine INSERT INTO addresses (email_address, user_id) VALUES (?, ?)\n",
      "2019-01-21 13:57:24,802 INFO sqlalchemy.engine.base.Engine ('jack@google.com', 5)\n",
      "2019-01-21 13:57:24,803 INFO sqlalchemy.engine.base.Engine INSERT INTO addresses (email_address, user_id) VALUES (?, ?)\n",
      "2019-01-21 13:57:24,803 INFO sqlalchemy.engine.base.Engine ('j25@yahoo.com', 5)\n",
      "2019-01-21 13:57:24,804 INFO sqlalchemy.engine.base.Engine COMMIT\n"
     ]
    }
   ],
   "source": [
    "session.commit()"
   ]
  },
  {
   "cell_type": "markdown",
   "metadata": {},
   "source": [
    "# Note that the values in the relationship are queried !!! They are not preloaded - if we need them in one go with the parent object we must use joins."
   ]
  },
  {
   "cell_type": "code",
   "execution_count": 68,
   "metadata": {},
   "outputs": [
    {
     "name": "stdout",
     "output_type": "stream",
     "text": [
      "2019-01-21 13:57:24,811 INFO sqlalchemy.engine.base.Engine BEGIN (implicit)\n",
      "2019-01-21 13:57:24,812 INFO sqlalchemy.engine.base.Engine SELECT users.id AS users_id, users.name AS users_name, users.fullname AS users_fullname, users.password AS users_password \n",
      "FROM users \n",
      "WHERE users.id = ?\n",
      "2019-01-21 13:57:24,813 INFO sqlalchemy.engine.base.Engine (5,)\n",
      "2019-01-21 13:57:24,816 INFO sqlalchemy.engine.base.Engine SELECT addresses.id AS addresses_id, addresses.email_address AS addresses_email_address, addresses.user_id AS addresses_user_id \n",
      "FROM addresses \n",
      "WHERE ? = addresses.user_id ORDER BY addresses.id\n",
      "2019-01-21 13:57:24,817 INFO sqlalchemy.engine.base.Engine (5,)\n"
     ]
    },
    {
     "data": {
      "text/plain": [
       "[<Address(email_address=jack@google.com)>,\n",
       " <Address(email_address=j25@yahoo.com)>]"
      ]
     },
     "execution_count": 68,
     "metadata": {},
     "output_type": "execute_result"
    }
   ],
   "source": [
    "jack.addresses"
   ]
  },
  {
   "cell_type": "markdown",
   "metadata": {},
   "source": [
    "# QUERYING MORE THAN ONE TABLE - RELATIONSHIPS AND JOINS"
   ]
  },
  {
   "cell_type": "markdown",
   "metadata": {},
   "source": [
    "## To create an implicit join we can just add more entities to query"
   ]
  },
  {
   "cell_type": "code",
   "execution_count": 69,
   "metadata": {},
   "outputs": [
    {
     "name": "stdout",
     "output_type": "stream",
     "text": [
      "2019-01-21 13:57:24,826 INFO sqlalchemy.engine.base.Engine SELECT users.id AS users_id, users.name AS users_name, users.fullname AS users_fullname, users.password AS users_password, addresses.id AS addresses_id, addresses.email_address AS addresses_email_address, addresses.user_id AS addresses_user_id \n",
      "FROM users, addresses \n",
      "WHERE users.id = addresses.user_id AND addresses.email_address = ?\n",
      "2019-01-21 13:57:24,827 INFO sqlalchemy.engine.base.Engine ('jack@google.com',)\n",
      "<User(name=jack, fullname=Jack Bean, password=dsdfsdf)>\n",
      "<Address(email_address=jack@google.com)>\n"
     ]
    }
   ],
   "source": [
    "for u, a in session.query(User, Address).filter(User.id==Address.user_id).filter(Address.email_address=='jack@google.com').all():\n",
    "    print(u)\n",
    "    print(a)"
   ]
  },
  {
   "cell_type": "markdown",
   "metadata": {},
   "source": [
    "## Joins are used to link 2 tables together"
   ]
  },
  {
   "cell_type": "markdown",
   "metadata": {},
   "source": [
    "Join table User to Address"
   ]
  },
  {
   "cell_type": "code",
   "execution_count": 70,
   "metadata": {},
   "outputs": [
    {
     "name": "stdout",
     "output_type": "stream",
     "text": [
      "2019-01-21 13:57:24,838 INFO sqlalchemy.engine.base.Engine SELECT users.id AS users_id, users.name AS users_name, users.fullname AS users_fullname, users.password AS users_password \n",
      "FROM users JOIN addresses ON users.id = addresses.user_id \n",
      "WHERE addresses.email_address = ?\n",
      "2019-01-21 13:57:24,839 INFO sqlalchemy.engine.base.Engine ('jack@google.com',)\n"
     ]
    },
    {
     "data": {
      "text/plain": [
       "[<User(name=jack, fullname=Jack Bean, password=dsdfsdf)>]"
      ]
     },
     "execution_count": 70,
     "metadata": {},
     "output_type": "execute_result"
    }
   ],
   "source": [
    "session.query(User).join(Address).filter(Address.email_address=='jack@google.com').all()"
   ]
  },
  {
   "cell_type": "markdown",
   "metadata": {},
   "source": [
    "## If the are no foreign keys or several we have to be more explicit in defining the join"
   ]
  },
  {
   "cell_type": "code",
   "execution_count": 71,
   "metadata": {},
   "outputs": [],
   "source": [
    "query = session.query(User)"
   ]
  },
  {
   "cell_type": "code",
   "execution_count": 72,
   "metadata": {},
   "outputs": [
    {
     "name": "stdout",
     "output_type": "stream",
     "text": [
      "2019-01-21 13:57:24,859 INFO sqlalchemy.engine.base.Engine SELECT users.id AS users_id, users.name AS users_name, users.fullname AS users_fullname, users.password AS users_password \n",
      "FROM users JOIN addresses ON users.id = addresses.user_id\n",
      "2019-01-21 13:57:24,860 INFO sqlalchemy.engine.base.Engine ()\n"
     ]
    },
    {
     "data": {
      "text/plain": [
       "[<User(name=jack, fullname=Jack Bean, password=dsdfsdf)>]"
      ]
     },
     "execution_count": 72,
     "metadata": {},
     "output_type": "execute_result"
    }
   ],
   "source": [
    "query.join(Address, User.id==Address.user_id).all() \n",
    "# explicitly say we need rows from addresses table where the user ids match"
   ]
  },
  {
   "cell_type": "code",
   "execution_count": 73,
   "metadata": {},
   "outputs": [
    {
     "name": "stdout",
     "output_type": "stream",
     "text": [
      "2019-01-21 13:57:24,869 INFO sqlalchemy.engine.base.Engine SELECT users.id AS users_id, users.name AS users_name, users.fullname AS users_fullname, users.password AS users_password \n",
      "FROM users JOIN addresses ON users.id = addresses.user_id\n",
      "2019-01-21 13:57:24,870 INFO sqlalchemy.engine.base.Engine ()\n"
     ]
    },
    {
     "data": {
      "text/plain": [
       "[<User(name=jack, fullname=Jack Bean, password=dsdfsdf)>]"
      ]
     },
     "execution_count": 73,
     "metadata": {},
     "output_type": "execute_result"
    }
   ],
   "source": [
    "query.join(User.addresses).all() # specifies relationship from left to right User -> Email Addresses"
   ]
  },
  {
   "cell_type": "code",
   "execution_count": 74,
   "metadata": {},
   "outputs": [
    {
     "name": "stdout",
     "output_type": "stream",
     "text": [
      "2019-01-21 13:57:24,880 INFO sqlalchemy.engine.base.Engine SELECT users.id AS users_id, users.name AS users_name, users.fullname AS users_fullname, users.password AS users_password \n",
      "FROM users JOIN addresses ON users.id = addresses.user_id\n",
      "2019-01-21 13:57:24,881 INFO sqlalchemy.engine.base.Engine ()\n"
     ]
    },
    {
     "data": {
      "text/plain": [
       "[<User(name=jack, fullname=Jack Bean, password=dsdfsdf)>]"
      ]
     },
     "execution_count": 74,
     "metadata": {},
     "output_type": "execute_result"
    }
   ],
   "source": [
    "query.join(Address, User.addresses).all() # As above but shows the target of the join (Address)"
   ]
  },
  {
   "cell_type": "code",
   "execution_count": 75,
   "metadata": {},
   "outputs": [
    {
     "name": "stdout",
     "output_type": "stream",
     "text": [
      "2019-01-21 13:57:24,896 INFO sqlalchemy.engine.base.Engine SELECT users.id AS users_id, users.name AS users_name, users.fullname AS users_fullname, users.password AS users_password \n",
      "FROM users JOIN addresses ON users.id = addresses.user_id\n",
      "2019-01-21 13:57:24,897 INFO sqlalchemy.engine.base.Engine ()\n"
     ]
    },
    {
     "data": {
      "text/plain": [
       "[<User(name=jack, fullname=Jack Bean, password=dsdfsdf)>]"
      ]
     },
     "execution_count": 75,
     "metadata": {},
     "output_type": "execute_result"
    }
   ],
   "source": [
    "query.join('addresses').all() # As above but giving the relation as a string"
   ]
  },
  {
   "cell_type": "markdown",
   "metadata": {},
   "source": [
    "##  Left out join is defined the same"
   ]
  },
  {
   "cell_type": "code",
   "execution_count": 76,
   "metadata": {},
   "outputs": [
    {
     "name": "stdout",
     "output_type": "stream",
     "text": [
      "2019-01-21 13:57:24,908 INFO sqlalchemy.engine.base.Engine SELECT users.id AS users_id, users.name AS users_name, users.fullname AS users_fullname, users.password AS users_password \n",
      "FROM users LEFT OUTER JOIN addresses ON users.id = addresses.user_id\n",
      "2019-01-21 13:57:24,909 INFO sqlalchemy.engine.base.Engine ()\n"
     ]
    },
    {
     "data": {
      "text/plain": [
       "[<User(name=ed, fullname=Ed Jones, password=newpass)>,\n",
       " <User(name=wendy, fullname=Wendy Williams, password=foobar)>,\n",
       " <User(name=mary, fullname=Mary Contrary, password=xfsdgfsd)>,\n",
       " <User(name=fred, fullname=Fred Flinstone, password=club)>,\n",
       " <User(name=jack, fullname=Jack Bean, password=dsdfsdf)>]"
      ]
     },
     "execution_count": 76,
     "metadata": {},
     "output_type": "execute_result"
    }
   ],
   "source": [
    "query.outerjoin(User.addresses).all()"
   ]
  },
  {
   "cell_type": "markdown",
   "metadata": {},
   "source": [
    "## When querying using same table more than once we my need to use aliases to it"
   ]
  },
  {
   "cell_type": "code",
   "execution_count": 77,
   "metadata": {},
   "outputs": [],
   "source": [
    "from sqlalchemy.orm import aliased"
   ]
  },
  {
   "cell_type": "code",
   "execution_count": 78,
   "metadata": {},
   "outputs": [],
   "source": [
    "adalias1 = aliased(Address)"
   ]
  },
  {
   "cell_type": "code",
   "execution_count": 79,
   "metadata": {},
   "outputs": [],
   "source": [
    "adalias2 = aliased(Address)"
   ]
  },
  {
   "cell_type": "code",
   "execution_count": 80,
   "metadata": {},
   "outputs": [
    {
     "name": "stdout",
     "output_type": "stream",
     "text": [
      "2019-01-21 13:57:24,948 INFO sqlalchemy.engine.base.Engine SELECT users.name AS users_name, addresses_1.email_address AS addresses_1_email_address, addresses_2.email_address AS addresses_2_email_address \n",
      "FROM users JOIN addresses AS addresses_1 ON users.id = addresses_1.user_id JOIN addresses AS addresses_2 ON users.id = addresses_2.user_id \n",
      "WHERE addresses_1.email_address = ? AND addresses_2.email_address = ?\n",
      "2019-01-21 13:57:24,949 INFO sqlalchemy.engine.base.Engine ('jack@google.com', 'j25@yahoo.com')\n",
      "jack jack@google.com j25@yahoo.com\n"
     ]
    }
   ],
   "source": [
    "for username, email1, email2 in (\n",
    "    session.query(User.name, adalias1.email_address, adalias2.email_address)\n",
    "    .join(adalias1, User.addresses)\n",
    "    .join(adalias2, User.addresses)\n",
    "    .filter(adalias1.email_address=='jack@google.com')\n",
    "    .filter(adalias2.email_address=='j25@yahoo.com')):\n",
    "    print(username, email1, email2)\n",
    "    "
   ]
  },
  {
   "cell_type": "markdown",
   "metadata": {},
   "source": [
    "## Using subqeries"
   ]
  },
  {
   "cell_type": "markdown",
   "metadata": {},
   "source": [
    "We want to load User object with a count of their email addresses. First we can get the counts groups by user ids and then join the to the parent - the user. To get the counts we use a subquery with func."
   ]
  },
  {
   "cell_type": "code",
   "execution_count": 81,
   "metadata": {},
   "outputs": [],
   "source": [
    "stmt = (\n",
    "    session.query(Address.user_id, func.count('*').label('address_count'))\n",
    "    .group_by(Address.user_id)\n",
    "    .subquery()\n",
    ")"
   ]
  },
  {
   "cell_type": "markdown",
   "metadata": {},
   "source": [
    "###  The ```subquery()``` produces a SELECT statement embedded within an alias\n",
    "The stmt with a subquery behaves like a new Table and columns are accessed using ```stmt.c```"
   ]
  },
  {
   "cell_type": "code",
   "execution_count": 82,
   "metadata": {},
   "outputs": [
    {
     "name": "stdout",
     "output_type": "stream",
     "text": [
      "2019-01-21 13:57:24,969 INFO sqlalchemy.engine.base.Engine SELECT users.id AS users_id, users.name AS users_name, users.fullname AS users_fullname, users.password AS users_password, anon_1.address_count AS anon_1_address_count \n",
      "FROM users LEFT OUTER JOIN (SELECT addresses.user_id AS user_id, count(?) AS address_count \n",
      "FROM addresses GROUP BY addresses.user_id) AS anon_1 ON users.id = anon_1.user_id ORDER BY users.id\n",
      "2019-01-21 13:57:24,969 INFO sqlalchemy.engine.base.Engine ('*',)\n",
      "<User(name=ed, fullname=Ed Jones, password=newpass)> None\n",
      "<User(name=wendy, fullname=Wendy Williams, password=foobar)> None\n",
      "<User(name=mary, fullname=Mary Contrary, password=xfsdgfsd)> None\n",
      "<User(name=fred, fullname=Fred Flinstone, password=club)> None\n",
      "<User(name=jack, fullname=Jack Bean, password=dsdfsdf)> 2\n"
     ]
    }
   ],
   "source": [
    "for u, count in (\n",
    "    session.query(User, stmt.c.address_count)\n",
    "    .outerjoin(stmt, User.id==stmt.c.user_id)\n",
    "    .order_by(User.id)):\n",
    "    print(u, count)"
   ]
  },
  {
   "cell_type": "markdown",
   "metadata": {},
   "source": [
    "## Selecting entities from subqueries (not only columns with .c.<column_name>)"
   ]
  },
  {
   "cell_type": "code",
   "execution_count": 83,
   "metadata": {},
   "outputs": [],
   "source": [
    "stmt = session.query(Address).filter(Address.email_address != 'j25@yahoo.com').subquery()"
   ]
  },
  {
   "cell_type": "markdown",
   "metadata": {},
   "source": [
    "### We have to make an alias out of the subquery using ```aliased()``` "
   ]
  },
  {
   "cell_type": "code",
   "execution_count": 84,
   "metadata": {},
   "outputs": [],
   "source": [
    "adalias = aliased(Address, stmt)"
   ]
  },
  {
   "cell_type": "code",
   "execution_count": 85,
   "metadata": {},
   "outputs": [
    {
     "name": "stdout",
     "output_type": "stream",
     "text": [
      "2019-01-21 13:57:25,012 INFO sqlalchemy.engine.base.Engine SELECT users.id AS users_id, users.name AS users_name, users.fullname AS users_fullname, users.password AS users_password, anon_1.id AS anon_1_id, anon_1.email_address AS anon_1_email_address, anon_1.user_id AS anon_1_user_id \n",
      "FROM users JOIN (SELECT addresses.id AS id, addresses.email_address AS email_address, addresses.user_id AS user_id \n",
      "FROM addresses \n",
      "WHERE addresses.email_address != ?) AS anon_1 ON users.id = anon_1.user_id\n",
      "2019-01-21 13:57:25,013 INFO sqlalchemy.engine.base.Engine ('j25@yahoo.com',)\n",
      "<User(name=jack, fullname=Jack Bean, password=dsdfsdf)>\n",
      "<Address(email_address=jack@google.com)>\n"
     ]
    }
   ],
   "source": [
    "for user, address in session.query(User, adalias).join(adalias, User.addresses):\n",
    "    print(user)\n",
    "    print(address)"
   ]
  },
  {
   "cell_type": "markdown",
   "metadata": {},
   "source": [
    "## Use ```exists()``` to confirm query returns any rows - returns a boolean"
   ]
  },
  {
   "cell_type": "code",
   "execution_count": 86,
   "metadata": {},
   "outputs": [],
   "source": [
    "from sqlalchemy.sql import exists"
   ]
  },
  {
   "cell_type": "code",
   "execution_count": 87,
   "metadata": {},
   "outputs": [],
   "source": [
    "stmt = exists().where(Address.user_id==User.id)"
   ]
  },
  {
   "cell_type": "code",
   "execution_count": 88,
   "metadata": {},
   "outputs": [
    {
     "name": "stdout",
     "output_type": "stream",
     "text": [
      "2019-01-21 13:57:25,042 INFO sqlalchemy.engine.base.Engine SELECT users.name AS users_name \n",
      "FROM users \n",
      "WHERE EXISTS (SELECT * \n",
      "FROM addresses \n",
      "WHERE addresses.user_id = users.id)\n",
      "2019-01-21 13:57:25,043 INFO sqlalchemy.engine.base.Engine ()\n",
      "jack\n"
     ]
    }
   ],
   "source": [
    "for name, in session.query(User.name).filter(stmt):\n",
    "    print(name)"
   ]
  },
  {
   "cell_type": "markdown",
   "metadata": {},
   "source": [
    "# Eager loading - use to eliminate number of queries when selecting related objects - as normally by default, relations are loaded lazily (only when accessed they emit a new query which can be really bad)\n",
    "\n",
    "## We invoke different loading via function in query options()."
   ]
  },
  {
   "cell_type": "markdown",
   "metadata": {},
   "source": [
    "## ```selectinload()```"
   ]
  },
  {
   "cell_type": "markdown",
   "metadata": {},
   "source": [
    "### to load email addresses per user we can use ```selectinload``` - they will get added to the rows"
   ]
  },
  {
   "cell_type": "code",
   "execution_count": 89,
   "metadata": {},
   "outputs": [],
   "source": [
    "from sqlalchemy.orm import selectinload"
   ]
  },
  {
   "cell_type": "code",
   "execution_count": 90,
   "metadata": {},
   "outputs": [
    {
     "name": "stdout",
     "output_type": "stream",
     "text": [
      "2019-01-21 13:57:25,062 INFO sqlalchemy.engine.base.Engine SELECT users.id AS users_id, users.name AS users_name, users.fullname AS users_fullname, users.password AS users_password \n",
      "FROM users \n",
      "WHERE users.name = ?\n",
      "2019-01-21 13:57:25,062 INFO sqlalchemy.engine.base.Engine ('jack',)\n",
      "2019-01-21 13:57:25,065 INFO sqlalchemy.engine.base.Engine SELECT users_1.id AS users_1_id, addresses.id AS addresses_id, addresses.email_address AS addresses_email_address, addresses.user_id AS addresses_user_id \n",
      "FROM users AS users_1 JOIN addresses ON users_1.id = addresses.user_id \n",
      "WHERE users_1.id IN (?) ORDER BY users_1.id, addresses.id\n",
      "2019-01-21 13:57:25,066 INFO sqlalchemy.engine.base.Engine (5,)\n"
     ]
    }
   ],
   "source": [
    "jack = session.query(User).options(selectinload(User.addresses)).filter_by(name='jack').one()"
   ]
  },
  {
   "cell_type": "code",
   "execution_count": 91,
   "metadata": {},
   "outputs": [
    {
     "data": {
      "text/plain": [
       "<User(name=jack, fullname=Jack Bean, password=dsdfsdf)>"
      ]
     },
     "execution_count": 91,
     "metadata": {},
     "output_type": "execute_result"
    }
   ],
   "source": [
    "jack"
   ]
  },
  {
   "cell_type": "code",
   "execution_count": 92,
   "metadata": {},
   "outputs": [
    {
     "data": {
      "text/plain": [
       "[<Address(email_address=jack@google.com)>,\n",
       " <Address(email_address=j25@yahoo.com)>]"
      ]
     },
     "execution_count": 92,
     "metadata": {},
     "output_type": "execute_result"
    }
   ],
   "source": [
    "jack.addresses # Notice that it does not emit a new query - addresses are now loaded"
   ]
  },
  {
   "cell_type": "markdown",
   "metadata": {},
   "source": [
    "## ```joinedload()```"
   ]
  },
  {
   "cell_type": "markdown",
   "metadata": {},
   "source": [
    "Emits a **left outer** join by default. So the left, parent object and its children are loaded in one step."
   ]
  },
  {
   "cell_type": "code",
   "execution_count": 93,
   "metadata": {},
   "outputs": [],
   "source": [
    "from sqlalchemy.orm import joinedload"
   ]
  },
  {
   "cell_type": "code",
   "execution_count": 94,
   "metadata": {},
   "outputs": [
    {
     "name": "stdout",
     "output_type": "stream",
     "text": [
      "2019-01-21 13:57:25,108 INFO sqlalchemy.engine.base.Engine SELECT users.id AS users_id, users.name AS users_name, users.fullname AS users_fullname, users.password AS users_password, addresses_1.id AS addresses_1_id, addresses_1.email_address AS addresses_1_email_address, addresses_1.user_id AS addresses_1_user_id \n",
      "FROM users LEFT OUTER JOIN addresses AS addresses_1 ON users.id = addresses_1.user_id \n",
      "WHERE users.name = ? ORDER BY addresses_1.id\n",
      "2019-01-21 13:57:25,109 INFO sqlalchemy.engine.base.Engine ('jack',)\n"
     ]
    }
   ],
   "source": [
    "jack = session.query(User).options(joinedload(User.addresses)).filter_by(name='jack').one()"
   ]
  },
  {
   "cell_type": "markdown",
   "metadata": {},
   "source": [
    "## The join created in joinedload is anonymously aliased and does not affect the main query - this is the difference from normal ```join()```. We use it to optimize loading of the relations."
   ]
  },
  {
   "cell_type": "markdown",
   "metadata": {},
   "source": [
    "## use normal ```join()``` and ```contains_eager()``` to mark which entities to load eagerly"
   ]
  },
  {
   "cell_type": "code",
   "execution_count": 95,
   "metadata": {},
   "outputs": [],
   "source": [
    "from sqlalchemy.orm import contains_eager"
   ]
  },
  {
   "cell_type": "code",
   "execution_count": 96,
   "metadata": {},
   "outputs": [
    {
     "name": "stdout",
     "output_type": "stream",
     "text": [
      "2019-01-21 13:57:25,128 INFO sqlalchemy.engine.base.Engine SELECT users.id AS users_id, users.name AS users_name, users.fullname AS users_fullname, users.password AS users_password, addresses.id AS addresses_id, addresses.email_address AS addresses_email_address, addresses.user_id AS addresses_user_id \n",
      "FROM addresses JOIN users ON users.id = addresses.user_id \n",
      "WHERE users.name = ?\n",
      "2019-01-21 13:57:25,129 INFO sqlalchemy.engine.base.Engine ('jack',)\n"
     ]
    }
   ],
   "source": [
    "jacks_addresses = (\n",
    "    session.query(Address)\n",
    "    .join(Address.user)\n",
    "    .filter(User.name=='jack')\n",
    "    .options(contains_eager(Address.user))\n",
    "    .all()\n",
    ")"
   ]
  },
  {
   "cell_type": "code",
   "execution_count": 97,
   "metadata": {},
   "outputs": [
    {
     "data": {
      "text/plain": [
       "[<Address(email_address=jack@google.com)>,\n",
       " <Address(email_address=j25@yahoo.com)>]"
      ]
     },
     "execution_count": 97,
     "metadata": {},
     "output_type": "execute_result"
    }
   ],
   "source": [
    "jacks_addresses"
   ]
  },
  {
   "cell_type": "code",
   "execution_count": 98,
   "metadata": {},
   "outputs": [
    {
     "data": {
      "text/plain": [
       "<User(name=jack, fullname=Jack Bean, password=dsdfsdf)>"
      ]
     },
     "execution_count": 98,
     "metadata": {},
     "output_type": "execute_result"
    }
   ],
   "source": [
    "jacks_addresses[0].user # already loaded"
   ]
  },
  {
   "cell_type": "markdown",
   "metadata": {},
   "source": [
    "# Deleting objects "
   ]
  },
  {
   "cell_type": "code",
   "execution_count": 99,
   "metadata": {},
   "outputs": [],
   "source": [
    "session.delete(jack)"
   ]
  },
  {
   "cell_type": "code",
   "execution_count": 100,
   "metadata": {},
   "outputs": [
    {
     "name": "stdout",
     "output_type": "stream",
     "text": [
      "2019-01-21 13:57:25,172 INFO sqlalchemy.engine.base.Engine UPDATE addresses SET user_id=? WHERE addresses.id = ?\n",
      "2019-01-21 13:57:25,173 INFO sqlalchemy.engine.base.Engine ((None, 1), (None, 2))\n",
      "2019-01-21 13:57:25,175 INFO sqlalchemy.engine.base.Engine DELETE FROM users WHERE users.id = ?\n",
      "2019-01-21 13:57:25,176 INFO sqlalchemy.engine.base.Engine (5,)\n",
      "2019-01-21 13:57:25,178 INFO sqlalchemy.engine.base.Engine SELECT count(*) AS count_1 \n",
      "FROM (SELECT users.id AS users_id, users.name AS users_name, users.fullname AS users_fullname, users.password AS users_password \n",
      "FROM users \n",
      "WHERE users.name = ?) AS anon_1\n",
      "2019-01-21 13:57:25,179 INFO sqlalchemy.engine.base.Engine ('jack',)\n"
     ]
    },
    {
     "data": {
      "text/plain": [
       "0"
      ]
     },
     "execution_count": 100,
     "metadata": {},
     "output_type": "execute_result"
    }
   ],
   "source": [
    "session.query(User).filter_by(name='jack').count() # jack object got deleted but the related objects not"
   ]
  },
  {
   "cell_type": "code",
   "execution_count": 101,
   "metadata": {},
   "outputs": [
    {
     "name": "stdout",
     "output_type": "stream",
     "text": [
      "2019-01-21 13:57:25,190 INFO sqlalchemy.engine.base.Engine SELECT count(*) AS count_1 \n",
      "FROM (SELECT addresses.id AS addresses_id, addresses.email_address AS addresses_email_address, addresses.user_id AS addresses_user_id \n",
      "FROM addresses \n",
      "WHERE addresses.email_address IN (?, ?)) AS anon_1\n",
      "2019-01-21 13:57:25,192 INFO sqlalchemy.engine.base.Engine ('jack@google.com', 'j25@yahoo.com')\n"
     ]
    },
    {
     "data": {
      "text/plain": [
       "2"
      ]
     },
     "execution_count": 101,
     "metadata": {},
     "output_type": "execute_result"
    }
   ],
   "source": [
    "session.query(Address).filter(Address.email_address.in_(['jack@google.com', 'j25@yahoo.com'])).count()"
   ]
  },
  {
   "cell_type": "markdown",
   "metadata": {},
   "source": [
    "## As we can see the jack got deleted but his related email addresses stay - to delete them together with their parent object we need to specify CASCADE"
   ]
  },
  {
   "cell_type": "markdown",
   "metadata": {},
   "source": [
    "# Configure CASCADE for email address relation on User - we have to redo the session and make a new User."
   ]
  },
  {
   "cell_type": "code",
   "execution_count": 102,
   "metadata": {},
   "outputs": [
    {
     "name": "stdout",
     "output_type": "stream",
     "text": [
      "2019-01-21 13:57:25,206 INFO sqlalchemy.engine.base.Engine ROLLBACK\n"
     ]
    }
   ],
   "source": [
    "session.close() # this will rollback the deletion of jack"
   ]
  },
  {
   "cell_type": "code",
   "execution_count": 103,
   "metadata": {},
   "outputs": [],
   "source": [
    "Base = declarative_base()"
   ]
  },
  {
   "cell_type": "code",
   "execution_count": 104,
   "metadata": {},
   "outputs": [],
   "source": [
    "class User(Base):\n",
    "    __tablename__ = 'users'\n",
    "    id = Column(Integer, primary_key=True)\n",
    "    name = Column(String)\n",
    "    fullname = Column(String)\n",
    "    password = Column(String)\n",
    "    addresses = relationship('Address', back_populates='user', cascade='all, delete, delete-orphan')\n",
    "    \n",
    "    def __repr__(self):\n",
    "        return f'<User(name={self.name}, fullname={self.fullname}, password={self.password})>'"
   ]
  },
  {
   "cell_type": "code",
   "execution_count": 105,
   "metadata": {},
   "outputs": [],
   "source": [
    "class Address(Base):\n",
    "    __tablename__ = 'addresses'\n",
    "    id = Column(Integer, primary_key=True)\n",
    "    email_address = Column(String, nullable=False)\n",
    "    user_id = Column(Integer, ForeignKey('users.id'))\n",
    "    user = relationship('User', back_populates='addresses')\n",
    "    \n",
    "    def __repr__(self):\n",
    "        return f'<Address(email_address={self.email_address})>'"
   ]
  },
  {
   "cell_type": "code",
   "execution_count": 106,
   "metadata": {},
   "outputs": [],
   "source": [
    "# load jack by his id = 5"
   ]
  },
  {
   "cell_type": "code",
   "execution_count": 107,
   "metadata": {},
   "outputs": [
    {
     "name": "stdout",
     "output_type": "stream",
     "text": [
      "2019-01-21 13:57:25,259 INFO sqlalchemy.engine.base.Engine BEGIN (implicit)\n",
      "2019-01-21 13:57:25,260 INFO sqlalchemy.engine.base.Engine SELECT users.id AS users_id, users.name AS users_name, users.fullname AS users_fullname, users.password AS users_password \n",
      "FROM users \n",
      "WHERE users.id = ?\n",
      "2019-01-21 13:57:25,261 INFO sqlalchemy.engine.base.Engine (5,)\n"
     ]
    }
   ],
   "source": [
    "jack = session.query(User).get(5)"
   ]
  },
  {
   "cell_type": "code",
   "execution_count": 108,
   "metadata": {},
   "outputs": [
    {
     "data": {
      "text/plain": [
       "<User(name=jack, fullname=Jack Bean, password=dsdfsdf)>"
      ]
     },
     "execution_count": 108,
     "metadata": {},
     "output_type": "execute_result"
    }
   ],
   "source": [
    "jack"
   ]
  },
  {
   "cell_type": "code",
   "execution_count": 109,
   "metadata": {},
   "outputs": [
    {
     "name": "stdout",
     "output_type": "stream",
     "text": [
      "2019-01-21 13:57:25,280 INFO sqlalchemy.engine.base.Engine SELECT addresses.id AS addresses_id, addresses.email_address AS addresses_email_address, addresses.user_id AS addresses_user_id \n",
      "FROM addresses \n",
      "WHERE ? = addresses.user_id\n",
      "2019-01-21 13:57:25,281 INFO sqlalchemy.engine.base.Engine (5,)\n"
     ]
    }
   ],
   "source": [
    "del jack.addresses[1] \n",
    "# remove one of his related emails - lazy load will get triggered as we did not preload addresses"
   ]
  },
  {
   "cell_type": "code",
   "execution_count": 110,
   "metadata": {},
   "outputs": [
    {
     "name": "stdout",
     "output_type": "stream",
     "text": [
      "2019-01-21 13:57:25,295 INFO sqlalchemy.engine.base.Engine DELETE FROM addresses WHERE addresses.id = ?\n",
      "2019-01-21 13:57:25,296 INFO sqlalchemy.engine.base.Engine (2,)\n",
      "2019-01-21 13:57:25,298 INFO sqlalchemy.engine.base.Engine SELECT count(*) AS count_1 \n",
      "FROM (SELECT addresses.id AS addresses_id, addresses.email_address AS addresses_email_address, addresses.user_id AS addresses_user_id \n",
      "FROM addresses \n",
      "WHERE ? = addresses.user_id) AS anon_1\n",
      "2019-01-21 13:57:25,299 INFO sqlalchemy.engine.base.Engine (5,)\n"
     ]
    },
    {
     "data": {
      "text/plain": [
       "1"
      ]
     },
     "execution_count": 110,
     "metadata": {},
     "output_type": "execute_result"
    }
   ],
   "source": [
    "session.query(Address).filter(Address.user==jack).count() # Now only one address remains"
   ]
  },
  {
   "cell_type": "markdown",
   "metadata": {},
   "source": [
    "## Now if we delete jack the other associated email will get deleted"
   ]
  },
  {
   "cell_type": "code",
   "execution_count": 111,
   "metadata": {},
   "outputs": [],
   "source": [
    "session.delete(jack)"
   ]
  },
  {
   "cell_type": "code",
   "execution_count": 112,
   "metadata": {},
   "outputs": [
    {
     "name": "stdout",
     "output_type": "stream",
     "text": [
      "2019-01-21 13:57:25,321 INFO sqlalchemy.engine.base.Engine DELETE FROM addresses WHERE addresses.id = ?\n",
      "2019-01-21 13:57:25,322 INFO sqlalchemy.engine.base.Engine (1,)\n",
      "2019-01-21 13:57:25,323 INFO sqlalchemy.engine.base.Engine DELETE FROM users WHERE users.id = ?\n",
      "2019-01-21 13:57:25,323 INFO sqlalchemy.engine.base.Engine (5,)\n",
      "2019-01-21 13:57:25,324 INFO sqlalchemy.engine.base.Engine SELECT count(*) AS count_1 \n",
      "FROM (SELECT users.id AS users_id, users.name AS users_name, users.fullname AS users_fullname, users.password AS users_password \n",
      "FROM users \n",
      "WHERE users.name = ?) AS anon_1\n",
      "2019-01-21 13:57:25,325 INFO sqlalchemy.engine.base.Engine ('jack',)\n"
     ]
    },
    {
     "data": {
      "text/plain": [
       "0"
      ]
     },
     "execution_count": 112,
     "metadata": {},
     "output_type": "execute_result"
    }
   ],
   "source": [
    "session.query(User).filter_by(name='jack').count()"
   ]
  },
  {
   "cell_type": "code",
   "execution_count": 113,
   "metadata": {},
   "outputs": [
    {
     "name": "stdout",
     "output_type": "stream",
     "text": [
      "2019-01-21 13:57:25,338 INFO sqlalchemy.engine.base.Engine SELECT count(*) AS count_1 \n",
      "FROM (SELECT addresses.id AS addresses_id, addresses.email_address AS addresses_email_address, addresses.user_id AS addresses_user_id \n",
      "FROM addresses \n",
      "WHERE addresses.email_address IN (?, ?)) AS anon_1\n",
      "2019-01-21 13:57:25,339 INFO sqlalchemy.engine.base.Engine ('jack@google.com', 'j25@yahoo.com')\n"
     ]
    },
    {
     "data": {
      "text/plain": [
       "0"
      ]
     },
     "execution_count": 113,
     "metadata": {},
     "output_type": "execute_result"
    }
   ],
   "source": [
    "session.query(Address).filter(Address.email_address.in_(['jack@google.com', 'j25@yahoo.com'])).count()"
   ]
  },
  {
   "cell_type": "markdown",
   "metadata": {},
   "source": [
    "# Many to Many relationships"
   ]
  },
  {
   "cell_type": "markdown",
   "metadata": {},
   "source": [
    "## We will make a BlogPost which can have many Keyword(s)."
   ]
  },
  {
   "cell_type": "code",
   "execution_count": 114,
   "metadata": {},
   "outputs": [],
   "source": [
    "from sqlalchemy import Table, Text"
   ]
  },
  {
   "cell_type": "markdown",
   "metadata": {},
   "source": [
    "## We need an association table to link many blogs with many keywords"
   ]
  },
  {
   "cell_type": "code",
   "execution_count": 115,
   "metadata": {},
   "outputs": [],
   "source": [
    "post_keywords = Table('post_keywords',\n",
    "                      Base.metadata,\n",
    "                      Column('post_id', ForeignKey('posts.id'), primary_key=True),\n",
    "                      Column('keyword_id', ForeignKey('keywords.id'), primary_key=True))"
   ]
  },
  {
   "cell_type": "code",
   "execution_count": 116,
   "metadata": {},
   "outputs": [],
   "source": [
    "class BlogPost(Base):\n",
    "    __tablename__ = 'posts'\n",
    "    id = Column(Integer, primary_key=True)\n",
    "    user_id = Column(Integer, ForeignKey('users.id'))\n",
    "    headline = Column(String(255), nullable=False)\n",
    "    body = Column(Text)\n",
    "    \n",
    "    #many to many relationship to keyword\n",
    "    keywords = relationship('Keyword', secondary=post_keywords, back_populates='posts')\n",
    "    \n",
    "    def __init__(self, headline, body, author):\n",
    "        self.author = author\n",
    "        self.headline = headline\n",
    "        self.body = body\n",
    "    \n",
    "    def __repr__(self):\n",
    "        return f'BlogPost<({self.headline}, {self.body}, {self.author})'"
   ]
  },
  {
   "cell_type": "code",
   "execution_count": 117,
   "metadata": {},
   "outputs": [],
   "source": [
    "class Keyword(Base):\n",
    "    __tablename__ = 'keywords'\n",
    "    id = Column(Integer, primary_key=True)\n",
    "    keyword = Column(String(50), nullable=False, unique=True)\n",
    "    posts = relationship('BlogPost', secondary=post_keywords, back_populates='keywords')\n",
    "    \n",
    "    def __init__(self, keyword):\n",
    "        self.keyword = keyword"
   ]
  },
  {
   "cell_type": "markdown",
   "metadata": {},
   "source": [
    "## When using declarative we DO NOT have to use __init__ - all the attributes will be set for us automatically"
   ]
  },
  {
   "cell_type": "markdown",
   "metadata": {},
   "source": [
    "## the ```secondary=``` parameter is the key parameter to make the many to many relationship - references the association table ```post_keywords``` that links BlogPost to Keyword"
   ]
  },
  {
   "cell_type": "code",
   "execution_count": 118,
   "metadata": {},
   "outputs": [],
   "source": [
    "BlogPost.author = relationship(User, back_populates='posts') # add also author field"
   ]
  },
  {
   "cell_type": "code",
   "execution_count": 119,
   "metadata": {},
   "outputs": [],
   "source": [
    "User.posts = relationship(BlogPost, back_populates='author', lazy='dynamic')"
   ]
  },
  {
   "cell_type": "code",
   "execution_count": 120,
   "metadata": {},
   "outputs": [
    {
     "name": "stdout",
     "output_type": "stream",
     "text": [
      "2019-01-21 13:59:54,896 INFO sqlalchemy.engine.base.Engine PRAGMA table_info(\"users\")\n",
      "2019-01-21 13:59:54,898 INFO sqlalchemy.engine.base.Engine ()\n",
      "2019-01-21 13:59:54,901 INFO sqlalchemy.engine.base.Engine PRAGMA table_info(\"addresses\")\n",
      "2019-01-21 13:59:54,902 INFO sqlalchemy.engine.base.Engine ()\n",
      "2019-01-21 13:59:54,905 INFO sqlalchemy.engine.base.Engine PRAGMA table_info(\"post_keywords\")\n",
      "2019-01-21 13:59:54,906 INFO sqlalchemy.engine.base.Engine ()\n",
      "2019-01-21 13:59:54,907 INFO sqlalchemy.engine.base.Engine PRAGMA table_info(\"posts\")\n",
      "2019-01-21 13:59:54,908 INFO sqlalchemy.engine.base.Engine ()\n",
      "2019-01-21 13:59:54,909 INFO sqlalchemy.engine.base.Engine PRAGMA table_info(\"keywords\")\n",
      "2019-01-21 13:59:54,909 INFO sqlalchemy.engine.base.Engine ()\n",
      "2019-01-21 13:59:54,910 INFO sqlalchemy.engine.base.Engine \n",
      "CREATE TABLE posts (\n",
      "\tid INTEGER NOT NULL, \n",
      "\tuser_id INTEGER, \n",
      "\theadline VARCHAR(255) NOT NULL, \n",
      "\tbody TEXT, \n",
      "\tPRIMARY KEY (id), \n",
      "\tFOREIGN KEY(user_id) REFERENCES users (id)\n",
      ")\n",
      "\n",
      "\n",
      "2019-01-21 13:59:54,910 INFO sqlalchemy.engine.base.Engine ()\n",
      "2019-01-21 13:59:54,911 INFO sqlalchemy.engine.base.Engine COMMIT\n",
      "2019-01-21 13:59:54,912 INFO sqlalchemy.engine.base.Engine \n",
      "CREATE TABLE keywords (\n",
      "\tid INTEGER NOT NULL, \n",
      "\tkeyword VARCHAR(50) NOT NULL, \n",
      "\tPRIMARY KEY (id), \n",
      "\tUNIQUE (keyword)\n",
      ")\n",
      "\n",
      "\n",
      "2019-01-21 13:59:54,912 INFO sqlalchemy.engine.base.Engine ()\n",
      "2019-01-21 13:59:54,913 INFO sqlalchemy.engine.base.Engine COMMIT\n",
      "2019-01-21 13:59:54,914 INFO sqlalchemy.engine.base.Engine \n",
      "CREATE TABLE post_keywords (\n",
      "\tpost_id INTEGER NOT NULL, \n",
      "\tkeyword_id INTEGER NOT NULL, \n",
      "\tPRIMARY KEY (post_id, keyword_id), \n",
      "\tFOREIGN KEY(post_id) REFERENCES posts (id), \n",
      "\tFOREIGN KEY(keyword_id) REFERENCES keywords (id)\n",
      ")\n",
      "\n",
      "\n",
      "2019-01-21 13:59:54,914 INFO sqlalchemy.engine.base.Engine ()\n",
      "2019-01-21 13:59:54,915 INFO sqlalchemy.engine.base.Engine COMMIT\n"
     ]
    }
   ],
   "source": [
    "Base.metadata.create_all(engine)"
   ]
  },
  {
   "cell_type": "code",
   "execution_count": 121,
   "metadata": {},
   "outputs": [
    {
     "name": "stdout",
     "output_type": "stream",
     "text": [
      "2019-01-21 14:00:40,080 INFO sqlalchemy.engine.base.Engine SELECT users.id AS users_id, users.name AS users_name, users.fullname AS users_fullname, users.password AS users_password \n",
      "FROM users \n",
      "WHERE users.name = ?\n",
      "2019-01-21 14:00:40,081 INFO sqlalchemy.engine.base.Engine ('wendy',)\n"
     ]
    }
   ],
   "source": [
    "wendy = session.query(User).filter_by(name='wendy').one()"
   ]
  },
  {
   "cell_type": "code",
   "execution_count": 122,
   "metadata": {},
   "outputs": [],
   "source": [
    "post = BlogPost(\"Wendy's Blog Post\", \"This is a test\", wendy)"
   ]
  },
  {
   "cell_type": "code",
   "execution_count": 123,
   "metadata": {},
   "outputs": [],
   "source": [
    "session.add(post)"
   ]
  },
  {
   "cell_type": "code",
   "execution_count": 124,
   "metadata": {},
   "outputs": [],
   "source": [
    "post.keywords.append(Keyword('wendy'))\n",
    "post.keywords.append(Keyword('firstpost'))"
   ]
  },
  {
   "cell_type": "code",
   "execution_count": 125,
   "metadata": {},
   "outputs": [
    {
     "name": "stdout",
     "output_type": "stream",
     "text": [
      "2019-01-21 14:03:38,044 INFO sqlalchemy.engine.base.Engine INSERT INTO keywords (keyword) VALUES (?)\n",
      "2019-01-21 14:03:38,045 INFO sqlalchemy.engine.base.Engine ('wendy',)\n",
      "2019-01-21 14:03:38,046 INFO sqlalchemy.engine.base.Engine INSERT INTO keywords (keyword) VALUES (?)\n",
      "2019-01-21 14:03:38,047 INFO sqlalchemy.engine.base.Engine ('firstpost',)\n",
      "2019-01-21 14:03:38,048 INFO sqlalchemy.engine.base.Engine INSERT INTO posts (user_id, headline, body) VALUES (?, ?, ?)\n",
      "2019-01-21 14:03:38,048 INFO sqlalchemy.engine.base.Engine (2, \"Wendy's Blog Post\", 'This is a test')\n",
      "2019-01-21 14:03:38,049 INFO sqlalchemy.engine.base.Engine INSERT INTO post_keywords (post_id, keyword_id) VALUES (?, ?)\n",
      "2019-01-21 14:03:38,049 INFO sqlalchemy.engine.base.Engine ((1, 1), (1, 2))\n",
      "2019-01-21 14:03:38,052 INFO sqlalchemy.engine.base.Engine SELECT posts.id AS posts_id, posts.user_id AS posts_user_id, posts.headline AS posts_headline, posts.body AS posts_body \n",
      "FROM posts \n",
      "WHERE EXISTS (SELECT 1 \n",
      "FROM post_keywords, keywords \n",
      "WHERE posts.id = post_keywords.post_id AND keywords.id = post_keywords.keyword_id AND keywords.keyword = ?)\n",
      "2019-01-21 14:03:38,052 INFO sqlalchemy.engine.base.Engine ('firstpost',)\n"
     ]
    },
    {
     "data": {
      "text/plain": [
       "[BlogPost<(Wendy's Blog Post, This is a test, <User(name=wendy, fullname=Wendy Williams, password=foobar)>)]"
      ]
     },
     "execution_count": 125,
     "metadata": {},
     "output_type": "execute_result"
    }
   ],
   "source": [
    "session.query(BlogPost).filter(BlogPost.keywords.any(keyword='firstpost')).all()"
   ]
  },
  {
   "cell_type": "code",
   "execution_count": 127,
   "metadata": {},
   "outputs": [
    {
     "name": "stdout",
     "output_type": "stream",
     "text": [
      "2019-01-21 14:04:42,691 INFO sqlalchemy.engine.base.Engine SELECT posts.id AS posts_id, posts.user_id AS posts_user_id, posts.headline AS posts_headline, posts.body AS posts_body \n",
      "FROM posts \n",
      "WHERE ? = posts.user_id AND (EXISTS (SELECT 1 \n",
      "FROM post_keywords, keywords \n",
      "WHERE posts.id = post_keywords.post_id AND keywords.id = post_keywords.keyword_id AND keywords.keyword = ?))\n",
      "2019-01-21 14:04:42,693 INFO sqlalchemy.engine.base.Engine (2, 'firstpost')\n"
     ]
    },
    {
     "data": {
      "text/plain": [
       "[BlogPost<(Wendy's Blog Post, This is a test, <User(name=wendy, fullname=Wendy Williams, password=foobar)>)]"
      ]
     },
     "execution_count": 127,
     "metadata": {},
     "output_type": "execute_result"
    }
   ],
   "source": [
    "wendy.posts.filter(BlogPost.keywords.any(keyword='firstpost')). all()"
   ]
  },
  {
   "cell_type": "code",
   "execution_count": null,
   "metadata": {},
   "outputs": [],
   "source": []
  }
 ],
 "metadata": {
  "kernelspec": {
   "display_name": "sql_alchemy_training",
   "language": "python",
   "name": "sql_alchemy_training"
  },
  "language_info": {
   "codemirror_mode": {
    "name": "ipython",
    "version": 3
   },
   "file_extension": ".py",
   "mimetype": "text/x-python",
   "name": "python",
   "nbconvert_exporter": "python",
   "pygments_lexer": "ipython3",
   "version": "3.6.7"
  }
 },
 "nbformat": 4,
 "nbformat_minor": 2
}
